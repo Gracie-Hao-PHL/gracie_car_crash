{
 "cells": [
  {
   "cell_type": "code",
   "execution_count": 1,
   "metadata": {},
   "outputs": [
    {
     "name": "stderr",
     "output_type": "stream",
     "text": [
      "/Users/gracie_hao/opt/anaconda3/lib/python3.8/site-packages/ipykernel/ipkernel.py:283: DeprecationWarning: `should_run_async` will not call `transform_cell` automatically in the future. Please pass the result to `transformed_cell` argument and any exception that happen during thetransform in `preprocessing_exc_tuple` in IPython 7.17 and above.\n",
      "  and should_run_async(code)\n"
     ]
    },
    {
     "data": {
      "text/plain": [
       "<test_car_crash.context.ProjectContext at 0x7ff8d04b46d0>"
      ]
     },
     "execution_count": 1,
     "metadata": {},
     "output_type": "execute_result"
    }
   ],
   "source": [
    "context"
   ]
  },
  {
   "cell_type": "code",
   "execution_count": 2,
   "metadata": {},
   "outputs": [
    {
     "name": "stdout",
     "output_type": "stream",
     "text": [
      "2021-11-02 21:18:09,985 - kedro.config.config - INFO - Config from path `/Users/gracie_hao/QB_Onboarding/gracie_car_crash/conf/local` will override the following existing top-level config keys: data_path\n"
     ]
    }
   ],
   "source": [
    "parameters = context.params"
   ]
  },
  {
   "cell_type": "code",
   "execution_count": 3,
   "metadata": {},
   "outputs": [
    {
     "data": {
      "text/plain": [
       "{'example_test_data_ratio': 0.2, 'example_num_trees': 10}"
      ]
     },
     "execution_count": 3,
     "metadata": {},
     "output_type": "execute_result"
    }
   ],
   "source": [
    "parameters"
   ]
  },
  {
   "cell_type": "code",
   "execution_count": 4,
   "metadata": {},
   "outputs": [
    {
     "name": "stdout",
     "output_type": "stream",
     "text": [
      "2021-11-03 10:38:59,689 - kedro.io.data_catalog - INFO - Loading data from `prm_car_location` (SparkDataSet)...\n"
     ]
    }
   ],
   "source": [
    "prm_car_location=catalog.load(\"prm_car_location\")"
   ]
  },
  {
   "cell_type": "code",
   "execution_count": 5,
   "metadata": {},
   "outputs": [
    {
     "name": "stdout",
     "output_type": "stream",
     "text": [
      "+-----------+---------+--------+-------------------+-------------+-------------------+\n",
      "|position_id|driver_id|latitude|          longitude|       source|            dt_time|\n",
      "+-----------+---------+--------+-------------------+-------------+-------------------+\n",
      "|          0|   adkavy|37.61549|-122.38821000000002|San_Francisco|2008-06-09 14:43:48|\n",
      "|          1|   adkavy|37.61562|         -122.38849|San_Francisco|2008-06-09 14:42:48|\n",
      "|          2|   adkavy|37.61518|         -122.39029|San_Francisco|2008-06-09 14:41:43|\n",
      "|          3|   adkavy|37.61393|         -122.39508|San_Francisco|2008-06-09 14:40:43|\n",
      "|          4|   adkavy|37.60493|         -122.38362|San_Francisco|2008-06-09 14:39:43|\n",
      "+-----------+---------+--------+-------------------+-------------+-------------------+\n",
      "only showing top 5 rows\n",
      "\n"
     ]
    }
   ],
   "source": [
    "prm_car_location.show(5)"
   ]
  },
  {
   "cell_type": "code",
   "execution_count": 7,
   "metadata": {},
   "outputs": [
    {
     "name": "stdout",
     "output_type": "stream",
     "text": [
      "2021-11-03 10:39:28,925 - kedro.io.data_catalog - INFO - Loading data from `prm_car_crash` (SparkDataSet)...\n"
     ]
    }
   ],
   "source": [
    "prm_car_crash=catalog.load(\"prm_car_crash\")"
   ]
  },
  {
   "cell_type": "code",
   "execution_count": 13,
   "metadata": {},
   "outputs": [
    {
     "data": {
      "text/plain": [
       "[Row(driver_id='adkavy', crash=0, source='San_Francisco', dt_time=datetime.datetime(2008, 6, 9, 14, 43, 48)),\n",
       " Row(driver_id='adkavy', crash=0, source='San_Francisco', dt_time=datetime.datetime(2008, 6, 9, 14, 42, 48)),\n",
       " Row(driver_id='adkavy', crash=0, source='San_Francisco', dt_time=datetime.datetime(2008, 6, 9, 14, 41, 43)),\n",
       " Row(driver_id='adkavy', crash=0, source='San_Francisco', dt_time=datetime.datetime(2008, 6, 9, 14, 40, 43)),\n",
       " Row(driver_id='adkavy', crash=0, source='San_Francisco', dt_time=datetime.datetime(2008, 6, 9, 14, 39, 43))]"
      ]
     },
     "execution_count": 13,
     "metadata": {},
     "output_type": "execute_result"
    }
   ],
   "source": [
    "prm_car_crash.head(5)"
   ]
  },
  {
   "cell_type": "code",
   "execution_count": 11,
   "metadata": {},
   "outputs": [
    {
     "name": "stdout",
     "output_type": "stream",
     "text": [
      "2021-11-03 10:52:01,474 - kedro.io.data_catalog - INFO - Loading data from `prm_car_location` (SparkDataSet)...\n"
     ]
    }
   ],
   "source": [
    "prm_car_location=catalog.load(\"prm_car_location\")"
   ]
  },
  {
   "cell_type": "code",
   "execution_count": 12,
   "metadata": {},
   "outputs": [
    {
     "data": {
      "text/plain": [
       "[Row(position_id=0, driver_id='adkavy', latitude=37.61549, longitude=-122.38821000000002, source='San_Francisco', dt_time=datetime.datetime(2008, 6, 9, 14, 43, 48)),\n",
       " Row(position_id=1, driver_id='adkavy', latitude=37.61562, longitude=-122.38849, source='San_Francisco', dt_time=datetime.datetime(2008, 6, 9, 14, 42, 48)),\n",
       " Row(position_id=2, driver_id='adkavy', latitude=37.61518, longitude=-122.39029, source='San_Francisco', dt_time=datetime.datetime(2008, 6, 9, 14, 41, 43)),\n",
       " Row(position_id=3, driver_id='adkavy', latitude=37.61393, longitude=-122.39508, source='San_Francisco', dt_time=datetime.datetime(2008, 6, 9, 14, 40, 43)),\n",
       " Row(position_id=4, driver_id='adkavy', latitude=37.60493, longitude=-122.38362, source='San_Francisco', dt_time=datetime.datetime(2008, 6, 9, 14, 39, 43))]"
      ]
     },
     "execution_count": 12,
     "metadata": {},
     "output_type": "execute_result"
    }
   ],
   "source": [
    "prm_car_location.head(5)"
   ]
  },
  {
   "cell_type": "code",
   "execution_count": 9,
   "metadata": {},
   "outputs": [
    {
     "name": "stdout",
     "output_type": "stream",
     "text": [
      "2021-11-03 10:51:18,149 - kedro.io.data_catalog - INFO - Loading data from `prm_spine` (SparkDataSet)...\n"
     ]
    }
   ],
   "source": [
    "prm_spine=catalog.load(\"prm_spine\")\n"
   ]
  },
  {
   "cell_type": "code",
   "execution_count": 10,
   "metadata": {},
   "outputs": [
    {
     "data": {
      "text/plain": [
       "[Row(driver_id='etnads', mod_start_date=datetime.datetime(2008, 5, 17, 6, 0, 32), pred_end_date=datetime.datetime(2008, 6, 2, 6, 0, 32), mod_end_date=datetime.datetime(2008, 5, 27, 6, 0, 32), pred_start_date=datetime.datetime(2008, 5, 28, 6, 0, 32)),\n",
       " Row(driver_id='aygpha', mod_start_date=datetime.datetime(2008, 5, 17, 6, 0, 50), pred_end_date=datetime.datetime(2008, 6, 2, 6, 0, 50), mod_end_date=datetime.datetime(2008, 5, 27, 6, 0, 50), pred_start_date=datetime.datetime(2008, 5, 28, 6, 0, 50)),\n",
       " Row(driver_id='oirzgont', mod_start_date=datetime.datetime(2008, 5, 17, 6, 0, 21), pred_end_date=datetime.datetime(2008, 6, 2, 6, 0, 21), mod_end_date=datetime.datetime(2008, 5, 27, 6, 0, 21), pred_start_date=datetime.datetime(2008, 5, 28, 6, 0, 21)),\n",
       " Row(driver_id='aldhidd', mod_start_date=datetime.datetime(2008, 5, 17, 6, 0, 4), pred_end_date=datetime.datetime(2008, 6, 2, 6, 0, 4), mod_end_date=datetime.datetime(2008, 5, 27, 6, 0, 4), pred_start_date=datetime.datetime(2008, 5, 28, 6, 0, 4)),\n",
       " Row(driver_id='efspheco', mod_start_date=datetime.datetime(2008, 5, 17, 6, 1, 6), pred_end_date=datetime.datetime(2008, 6, 2, 6, 1, 6), mod_end_date=datetime.datetime(2008, 5, 27, 6, 1, 6), pred_start_date=datetime.datetime(2008, 5, 28, 6, 1, 6))]"
      ]
     },
     "execution_count": 10,
     "metadata": {},
     "output_type": "execute_result"
    }
   ],
   "source": [
    "prm_spine.head(5)"
   ]
  },
  {
   "cell_type": "code",
   "execution_count": 7,
   "metadata": {
    "collapsed": true
   },
   "outputs": [
    {
     "name": "stdout",
     "output_type": "stream",
     "text": [
      "2021-11-02 21:37:28,387 - root - INFO - ** Kedro project gracie_car_crash\n",
      "2021-11-02 21:37:28,394 - kedro.config.config - INFO - Config from path `/Users/gracie_hao/QB_Onboarding/gracie_car_crash/conf/local` will override the following existing top-level config keys: data_path\n",
      "2021-11-02 21:37:28,420 - kedro.config.config - INFO - Config from path `/Users/gracie_hao/QB_Onboarding/gracie_car_crash/conf/local` will override the following existing top-level config keys: data_path\n",
      "2021-11-02 21:37:28,428 - kedro.config.config - INFO - Config from path `/Users/gracie_hao/QB_Onboarding/gracie_car_crash/conf/local` will override the following existing top-level config keys: fea_total_miles, mod_master, prm_car_crash, prm_car_location, prm_spine, raw_car_crash, raw_car_location\n",
      "2021-11-02 21:37:28,433 - kedro.config.config - INFO - Config from path `/Users/gracie_hao/QB_Onboarding/gracie_car_crash/conf/local` will override the following existing top-level config keys: data_path\n",
      "2021-11-02 21:37:28,444 - kedro.config.config - INFO - Config from path `/Users/gracie_hao/QB_Onboarding/gracie_car_crash/conf/local` will override the following existing top-level config keys: data_path\n",
      "2021-11-02 21:37:28,464 - kedro.io.data_catalog - INFO - Loading data from `raw_car_location` (SparkDataSet)...\n",
      "2021-11-02 21:37:28,490 - kedro.pipeline.node - INFO - Running node: unix_to_datetime([raw_car_location]) -> [prm_car_location]\n"
     ]
    },
    {
     "name": "stderr",
     "output_type": "stream",
     "text": [
      "/Users/gracie_hao/opt/anaconda3/lib/python3.8/site-packages/kedro/framework/context/context.py:59: DeprecationWarning: Accessing package_name via the context will be deprecated in Kedro 0.18.0.\n",
      "  warn(\n",
      "/Users/gracie_hao/opt/anaconda3/lib/python3.8/site-packages/kedro/framework/project/__init__.py:164: UserWarning: Found duplicate pipeline entries. The following will be overwritten: __default__\n",
      "  warn(\n",
      "/Users/gracie_hao/opt/anaconda3/lib/python3.8/site-packages/kedro/framework/project/__init__.py:164: UserWarning: Found duplicate pipeline entries. The following will be overwritten: __default__, de\n",
      "  warn(\n"
     ]
    },
    {
     "name": "stdout",
     "output_type": "stream",
     "text": [
      "2021-11-02 21:37:28,703 - kedro.io.data_catalog - INFO - Saving data to `prm_car_location` (SparkDataSet)...\n",
      "2021-11-02 21:37:54,092 - kedro.runner.sequential_runner - INFO - Completed 1 out of 6 tasks\n",
      "2021-11-02 21:37:54,093 - kedro.io.data_catalog - INFO - Loading data from `raw_car_crash` (SparkDataSet)...\n",
      "2021-11-02 21:37:54,113 - kedro.pipeline.node - INFO - Running node: unix_to_datetime([raw_car_crash]) -> [prm_car_crash]\n",
      "2021-11-02 21:37:54,160 - kedro.io.data_catalog - INFO - Saving data to `prm_car_crash` (SparkDataSet)...\n",
      "2021-11-02 21:38:10,575 - kedro.runner.sequential_runner - INFO - Completed 2 out of 6 tasks\n",
      "2021-11-02 21:38:10,576 - kedro.io.data_catalog - INFO - Loading data from `prm_car_location` (SparkDataSet)...\n",
      "2021-11-02 21:38:10,757 - kedro.pipeline.node - INFO - Running node: prm_spine([prm_car_location]) -> [prm_spine]\n",
      "2021-11-02 21:38:11,051 - kedro.io.data_catalog - INFO - Saving data to `prm_spine` (SparkDataSet)...\n",
      "2021-11-02 21:38:14,288 - kedro.runner.sequential_runner - INFO - Completed 3 out of 6 tasks\n",
      "2021-11-02 21:38:14,289 - kedro.io.data_catalog - INFO - Loading data from `prm_spine` (SparkDataSet)...\n",
      "2021-11-02 21:38:14,375 - kedro.io.data_catalog - INFO - Loading data from `prm_car_location` (SparkDataSet)...\n",
      "2021-11-02 21:38:14,452 - kedro.pipeline.node - INFO - Running node: fea_total_miles([prm_car_location,prm_spine]) -> [fea_total_miles]\n",
      "2021-11-02 21:38:14,841 - kedro.io.data_catalog - INFO - Saving data to `fea_total_miles` (SparkDataSet)...\n",
      "2021-11-02 21:38:34,075 - kedro.runner.sequential_runner - INFO - Completed 4 out of 6 tasks\n",
      "2021-11-02 21:38:34,076 - kedro.io.data_catalog - INFO - Loading data from `prm_spine` (SparkDataSet)...\n",
      "2021-11-02 21:38:34,172 - kedro.io.data_catalog - INFO - Loading data from `prm_car_location` (SparkDataSet)...\n",
      "2021-11-02 21:38:34,248 - kedro.pipeline.node - INFO - Running node: fea_rush_hour_ratio([prm_car_location,prm_spine]) -> [fea_rush_hour_ratio]\n",
      "2021-11-02 21:38:34,341 - kedro.io.data_catalog - INFO - Saving data to `fea_rush_hour_ratio` (SparkDataSet)...\n",
      "2021-11-02 21:38:37,634 - kedro.runner.sequential_runner - INFO - Completed 5 out of 6 tasks\n",
      "2021-11-02 21:38:37,635 - kedro.io.data_catalog - INFO - Loading data from `prm_spine` (SparkDataSet)...\n",
      "2021-11-02 21:38:37,722 - kedro.io.data_catalog - INFO - Loading data from `fea_total_miles` (SparkDataSet)...\n",
      "2021-11-02 21:38:37,802 - kedro.io.data_catalog - INFO - Loading data from `fea_rush_hour_ratio` (SparkDataSet)...\n",
      "2021-11-02 21:38:37,881 - kedro.pipeline.node - INFO - Running node: mod_master([fea_rush_hour_ratio,fea_total_miles,prm_spine]) -> [mod_master]\n",
      "2021-11-02 21:38:37,897 - kedro.io.data_catalog - INFO - Saving data to `mod_master` (SparkDataSet)...\n",
      "2021-11-02 21:38:38,184 - kedro.runner.sequential_runner - INFO - Completed 6 out of 6 tasks\n",
      "2021-11-02 21:38:38,184 - kedro.runner.sequential_runner - INFO - Pipeline execution completed successfully.\n"
     ]
    }
   ],
   "source": [
    "# final=session.run()"
   ]
  },
  {
   "cell_type": "code",
   "execution_count": 2,
   "metadata": {},
   "outputs": [
    {
     "name": "stdout",
     "output_type": "stream",
     "text": [
      "2021-11-03 10:10:15,473 - kedro.io.data_catalog - INFO - Loading data from `mod_master` (SparkDataSet)...\n"
     ]
    }
   ],
   "source": [
    "mod_master=catalog.load(\"mod_master\")"
   ]
  },
  {
   "cell_type": "code",
   "execution_count": 3,
   "metadata": {
    "collapsed": true
   },
   "outputs": [
    {
     "name": "stdout",
     "output_type": "stream",
     "text": [
      "+---------+-------------------+-------------------+-------------------+-------------------+------------------+-------------------+\n",
      "|driver_id|     mod_start_date|      pred_end_date|       mod_end_date|    pred_start_date|       total_miles|    rush_hour_ratio|\n",
      "+---------+-------------------+-------------------+-------------------+-------------------+------------------+-------------------+\n",
      "|   etnads|2008-05-17 06:00:32|2008-06-02 06:00:32|2008-05-27 06:00:32|2008-05-28 06:00:32|2541.6377907058118| 0.1509466289728433|\n",
      "|   aygpha|2008-05-17 06:00:50|2008-06-02 06:00:50|2008-05-27 06:00:50|2008-05-28 06:00:50|1695.9734533118185|0.17975011786892975|\n",
      "| oirzgont|2008-05-17 06:00:21|2008-06-02 06:00:21|2008-05-27 06:00:21|2008-05-28 06:00:21|1882.3839787437978|0.20058179803296855|\n",
      "|  aldhidd|2008-05-17 06:00:04|2008-06-02 06:00:04|2008-05-27 06:00:04|2008-05-28 06:00:04| 1101.003339756122|0.19706017455213598|\n",
      "| efspheco|2008-05-17 06:01:06|2008-06-02 06:01:06|2008-05-27 06:01:06|2008-05-28 06:01:06|2678.0078904430534|0.19564676616915422|\n",
      "+---------+-------------------+-------------------+-------------------+-------------------+------------------+-------------------+\n",
      "only showing top 5 rows\n",
      "\n"
     ]
    }
   ],
   "source": [
    "mod_master.show(5)"
   ]
  },
  {
   "cell_type": "code",
   "execution_count": 24,
   "metadata": {},
   "outputs": [],
   "source": [
    "def fea_rush_hour_ratio(df_spine, df_location):\n",
    "    #df_location = df_location.withColumn(\"date_time\", F.to_timestamp(df_location.unix_time / 1000))\n",
    "\n",
    "    # Filter location data between mod_start_date and mod_end_date\n",
    "    df_location_filtered = df_spine.join(\n",
    "            df_location,\n",
    "            ((df_spine.driver_id == df_location.driver_id)\n",
    "            & (df_location['dt_time'].between(df_spine.mod_start_date, df_spine.mod_end_date))),\n",
    "        'left').drop(df_spine.driver_id)\n",
    "    # Calculate rush hour\n",
    "    df_location_filtered = df_location_filtered.withColumn('time',F.date_format('dt_time','HH:mm:ss'))\n",
    "    df_rush_hour = df_location_filtered.withColumn('RushHour',\n",
    "                          F.when(((df_location_filtered['time'] >= '07:00:00')&(df_location_filtered['time'] <= '09:00:00'))|\n",
    "                                 ((df_location_filtered['time'] >= '16:30:00')&(df_location_filtered['time'] <= '19:30:00')),\n",
    "                                 1)\n",
    "                                )\n",
    "    df_rush_hour = df_rush_hour.fillna(0,'RushHour')\n",
    "    # Calculate rush ratio\n",
    "    df_rush_ratio = df_rush_hour.groupBy('driver_id').agg((F.sum(df_rush_hour['RushHour'])/F.count(df_rush_hour['RushHour'])).alias('rush_hour_ratio'))\n",
    "    df_fea_rush_hour_ratio = (\n",
    "            df_spine.join(\n",
    "                df_rush_ratio, df_spine.driver_id == df_rush_ratio.driver_id, \"inner\"\n",
    "            )\n",
    "            .drop(df_rush_ratio.driver_id)\n",
    "            .select(\"driver_id\", \"mod_start_date\", \"rush_hour_ratio\")\n",
    "    )\n",
    "    return df_fea_rush_hour_ratio"
   ]
  },
  {
   "cell_type": "code",
   "execution_count": 29,
   "metadata": {},
   "outputs": [],
   "source": [
    "def fea_prev_crash(df_spine, df_crash):\n",
    "    df_fea_prev_crash = df_spine\\\n",
    "        .join(df_crash,\\\n",
    "            ((df_spine.driver_id == df_crash.driver_id)\\\n",
    "            & (df_crash['dt_time'].between(df_spine.mod_start_date, df_spine.mod_end_date))),\\\n",
    "            'left').drop(df_spine.driver_id)\\\n",
    "        .withColumnRenamed('dt_time', 'crash_ts')\\\n",
    "        .select(\"driver_id\", \"mod_start_date\",\"crash\",\"source\", \"crash_ts\")\n",
    "\n",
    "    return df_fea_prev_crash"
   ]
  },
  {
   "cell_type": "code",
   "execution_count": 30,
   "metadata": {},
   "outputs": [],
   "source": [
    "df_fea_prev_crash=fea_prev_crash(prm_spine,prm_car_crash)"
   ]
  },
  {
   "cell_type": "code",
   "execution_count": 31,
   "metadata": {},
   "outputs": [
    {
     "data": {
      "text/plain": [
       "[Row(driver_id='aldhidd', mod_start_date=datetime.datetime(2008, 5, 17, 6, 0, 4), crash=0, source='San_Francisco', crash_ts=datetime.datetime(2008, 5, 27, 5, 59, 37)),\n",
       " Row(driver_id='aldhidd', mod_start_date=datetime.datetime(2008, 5, 17, 6, 0, 4), crash=0, source='San_Francisco', crash_ts=datetime.datetime(2008, 5, 27, 5, 58, 37)),\n",
       " Row(driver_id='aldhidd', mod_start_date=datetime.datetime(2008, 5, 17, 6, 0, 4), crash=0, source='San_Francisco', crash_ts=datetime.datetime(2008, 5, 27, 5, 57, 36)),\n",
       " Row(driver_id='aldhidd', mod_start_date=datetime.datetime(2008, 5, 17, 6, 0, 4), crash=0, source='San_Francisco', crash_ts=datetime.datetime(2008, 5, 27, 5, 56, 35)),\n",
       " Row(driver_id='aldhidd', mod_start_date=datetime.datetime(2008, 5, 17, 6, 0, 4), crash=0, source='San_Francisco', crash_ts=datetime.datetime(2008, 5, 27, 5, 55, 35))]"
      ]
     },
     "execution_count": 31,
     "metadata": {},
     "output_type": "execute_result"
    }
   ],
   "source": [
    "df_fea_prev_crash.head(5)"
   ]
  },
  {
   "cell_type": "code",
   "execution_count": null,
   "metadata": {},
   "outputs": [],
   "source": []
  }
 ],
 "metadata": {
  "kernelspec": {
   "display_name": "car_crash",
   "language": "python",
   "name": "python3"
  },
  "language_info": {
   "codemirror_mode": {
    "name": "ipython",
    "version": 3
   },
   "file_extension": ".py",
   "mimetype": "text/x-python",
   "name": "python",
   "nbconvert_exporter": "python",
   "pygments_lexer": "ipython3",
   "version": "3.8.8"
  }
 },
 "nbformat": 4,
 "nbformat_minor": 2
}
