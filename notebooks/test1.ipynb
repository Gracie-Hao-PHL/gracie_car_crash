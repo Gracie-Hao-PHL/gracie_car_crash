{
 "cells": [
  {
   "cell_type": "code",
   "execution_count": null,
   "metadata": {
    "tags": [
     "node"
    ]
   },
   "outputs": [],
   "source": [
    "def fea_prev_crash(df_spine, df_crash):\n",
    "    \"\"\"Calculate the number of crashes each driver had during the modeling period\n",
    "\n",
    "    Args:\n",
    "        df_A (spark dataframe): [description]\n",
    "        df_B (spark dataframe): [description]\n",
    "\n",
    "    Returns:\n",
    "        df_fea_prev_crash (spark dataframe): [description]\n",
    "    \"\"\"\n",
    "    df_fea_prev_crash = df_spine.join(\\\n",
    "            df_crash,\n",
    "            ((df_spine.driver_id == df_crash.driver_id)\n",
    "            & (df_crash['dt_time'].between(df_spine.mod_start_date, df_spine.mod_end_date))),\n",
    "            'left').drop(df_spine.driver_id)\\\n",
    "            .select(\"driver_id\", \"mod_start_date\",\"crash\",\"source\", \"dt_time\")\n",
    "    return df_fea_prev_crash"
   ]
  }
 ],
 "metadata": {
  "celltoolbar": "Tags",
  "kernelspec": {
   "display_name": "car_crash",
   "language": "python",
   "name": "python3"
  },
  "language_info": {
   "codemirror_mode": {
    "name": "ipython",
    "version": 3
   },
   "file_extension": ".py",
   "mimetype": "text/x-python",
   "name": "python",
   "nbconvert_exporter": "python",
   "pygments_lexer": "ipython3",
   "version": "3.8.8"
  }
 },
 "nbformat": 4,
 "nbformat_minor": 2
}
